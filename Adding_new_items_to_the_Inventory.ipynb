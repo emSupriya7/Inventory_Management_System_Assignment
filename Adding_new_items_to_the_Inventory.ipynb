{
  "nbformat": 4,
  "nbformat_minor": 0,
  "metadata": {
    "colab": {
      "name": "Adding new items to the Inventory",
      "provenance": [],
      "collapsed_sections": []
    },
    "kernelspec": {
      "name": "python3",
      "display_name": "Python 3"
    },
    "language_info": {
      "name": "python"
    }
  },
  "cells": [
    {
      "cell_type": "code",
      "metadata": {
        "id": "34aWOMfyN30X"
      },
      "source": [
        "items = { 101 : {\"ProductName\" : \"Ariel-TopLoad\", \"Price\" : 520, \"qty\" : 25, \"Availabilty\" : \"In-stock\", \"Discount\" : 0},\n",
        "          102 : {\"ProductName\" : \"Maggie\", \"Price\" : 120, \"qty\" : 25, \"Availabilty\" : \"In-stock\", \"Discount\" : 0},\n",
        "          103 : {\"ProductName\" : \"Ariel-FrontLoad\", \"Price\" : 320, \"qty\" : 25, \"Availabilty\" : \"In-stock\", \"Discount\" : 0},\n",
        "          104 : {\"ProductName\" : \"Spagetti\", \"Price\" : 200, \"qty\" : 25, \"Availabilty\" : \"In-stock\", \"Discount\" : 0},\n",
        "          105 : {\"ProductName\" : \"Noodles\", \"Price\" : 520, \"qty\" : 25, \"Availabilty\" : \"In-stock\", \"Discount\" : 0},\n",
        "          106 : {\"ProductName\" : \"Toy\", \"Price\" : 520, \"qty\" : 25, \"Availabilty\" : \"In-stock\", \"Discount\" : 0},\n",
        "          107 : {\"ProductName\" : \"Rice\", \"Price\" : 520, \"qty\" : 25, \"Availabilty\" : \"In-stock\", \"Discount\" : 0},\n",
        "          108 : {\"ProductName\" : \"Earphones\", \"Price\" : 1120, \"qty\" : 25, \"Availabilty\" : \"In-stock\", \"Discount\" : 0},\n",
        "          109 : {\"ProductName\" : \"Laptop\", \"Price\" : 55520, \"qty\" : 25, \"Availabilty\" : \"In-stock\", \"Discount\" : 0},\n",
        "          110 : {\"ProductName\" : \"Papers\", \"Price\" : 120, \"qty\" : 25, \"Availabilty\" : \"In-stock\", \"Discount\" : 0},\n",
        "          111 : {\"ProductName\" : \"Sticker\", \"Price\" : 20, \"qty\" : 25, \"Availabilty\" : \"In-stock\", \"Discount\" : 0},\n",
        "          112 : {\"ProductName\" : \"Chairs\", \"Price\" : 520, \"qty\" : 25, \"Availabilty\" : \"In-stock\", \"Discount\" : 0},\n",
        "          113 : {\"ProductName\" : \"Vegetables\", \"Price\" : 560, \"qty\" : 25, \"Availabilty\" : \"In-stock\", \"Discount\" : 0},\n",
        "          114 : {\"ProductName\" : \"Fruits\", \"Price\" : 500, \"qty\" : 25, \"Availabilty\" : \"In-stock\", \"Discount\" : 0},\n",
        "          115 : {\"ProductName\" : \"Mushrooms\", \"Price\" : 420, \"qty\" : 25, \"Availabilty\" : \"In-stock\", \"Discount\" : 0},\n",
        "          116 : {\"ProductName\" : \"Charger\", \"Price\" : 520, \"qty\" : 25, \"Availabilty\" : \"In-stock\", \"Discount\" : 0},\n",
        "          117 : {\"ProductName\" : \"ToothPaste\", \"Price\" : 220, \"qty\" : 25, \"Availabilty\" : \"In-stock\", \"Discount\" : 0},\n",
        "          118 : {\"ProductName\" : \"ToothBrush\", \"Price\" : 120, \"qty\" : 25, \"Availabilty\" : \"In-stock\", \"Discount\" : 0},\n",
        "          119 : {\"ProductName\" : \"Pens\", \"Price\" : 20, \"qty\" : 25, \"Availabilty\" : \"In-stock\", \"Discount\" : 0},\n",
        "          120 : {\"ProductName\" : \"Pastries\", \"Price\" : 520, \"qty\" : 25, \"Availabilty\" : \"In-stock\", \"Discount\" : 0},\n",
        "          121 : {\"ProductName\" : \"ZanduBalm\", \"Price\" : 120, \"qty\" : 25, \"Availabilty\" : \"In-stock\", \"Discount\" : 0},\n",
        "          122 : {\"ProductName\" : \"Vicks\", \"Price\" : 50, \"qty\" : 25, \"Availabilty\" : \"In-stock\", \"Discount\" : 0},\n",
        "          123 : {\"ProductName\" : \"Honey\", \"Price\" : 255, \"qty\" : 25, \"Availabilty\" : \"In-stock\", \"Discount\" : 0},\n",
        "          124 : {\"ProductName\" : \"Kurta\", \"Price\" : 520, \"qty\" : 25, \"Availabilty\" : \"In-stock\", \"Discount\" : 0},\n",
        "          125 : {\"ProductName\" : \"DiaryMilk\", \"Price\" : 500, \"qty\" : 25, \"Availabilty\" : \"In-stock\", \"Discount\" : 0},\n",
        "          126 : {\"ProductName\" : \"ChocoCake\", \"Price\" : 320, \"qty\" : 25, \"Availabilty\" : \"In-stock\", \"Discount\" : 0},\n",
        "          127 : {\"ProductName\" : \"Cornflakes\", \"Price\" : 220, \"qty\" : 25, \"Availabilty\" : \"In-stock\", \"Discount\" : 0},\n",
        "          128 : {\"ProductName\" : \"Milk\", \"Price\" : 150, \"qty\" : 25, \"Availabilty\" : \"In-stock\", \"Discount\" : 0},\n",
        "          129 : {\"ProductName\" : \"Hershey's\", \"Price\" : 200, \"qty\" : 25, \"Availabilty\" : \"In-stock\", \"Discount\" : 0},\n",
        "          130 : {\"ProductName\" : \"Bread\", \"Price\" : 120, \"qty\" : 25, \"Availabilty\" : \"In-stock\", \"Discount\" : 0}\n",
        "         \n",
        "        }"
      ],
      "execution_count": null,
      "outputs": []
    },
    {
      "cell_type": "code",
      "metadata": {
        "id": "m7osufOjOFyj"
      },
      "source": [
        "import json"
      ],
      "execution_count": null,
      "outputs": []
    },
    {
      "cell_type": "code",
      "metadata": {
        "id": "9Z4B6fXEOFk3"
      },
      "source": [
        "js = json.dumps(items)"
      ],
      "execution_count": null,
      "outputs": []
    },
    {
      "cell_type": "code",
      "metadata": {
        "id": "3q_gaGIPORn5"
      },
      "source": [
        "fd = open(\"record.json\",\"w\")\n",
        "fd.write(js)\n",
        "fd.close()"
      ],
      "execution_count": null,
      "outputs": []
    },
    {
      "cell_type": "code",
      "metadata": {
        "id": "GQn8RozMOa8D"
      },
      "source": [
        "fd = open(\"record.json\",'r')\n",
        "\n",
        "r = fd.read()\n",
        "\n",
        "fd.close()"
      ],
      "execution_count": null,
      "outputs": []
    },
    {
      "cell_type": "code",
      "metadata": {
        "colab": {
          "base_uri": "https://localhost:8080/"
        },
        "id": "7kO1ONjGO24U",
        "outputId": "0ac6dcec-f465-48ff-bc62-0c8fa0e2dcab"
      },
      "source": [
        "items = json.loads(r)\n",
        "items\n"
      ],
      "execution_count": null,
      "outputs": [
        {
          "output_type": "execute_result",
          "data": {
            "text/plain": [
              "{'101': {'Availabilty': 'In-stock',\n",
              "  'Discount': 0,\n",
              "  'Price': 520,\n",
              "  'ProductName': 'Ariel-TopLoad',\n",
              "  'qty': 25},\n",
              " '102': {'Availabilty': 'In-stock',\n",
              "  'Discount': 0,\n",
              "  'Price': 120,\n",
              "  'ProductName': 'Maggie',\n",
              "  'qty': 25},\n",
              " '103': {'Availabilty': 'In-stock',\n",
              "  'Discount': 0,\n",
              "  'Price': 320,\n",
              "  'ProductName': 'Ariel-FrontLoad',\n",
              "  'qty': 25},\n",
              " '104': {'Availabilty': 'In-stock',\n",
              "  'Discount': 0,\n",
              "  'Price': 200,\n",
              "  'ProductName': 'Spagetti',\n",
              "  'qty': 25},\n",
              " '105': {'Availabilty': 'In-stock',\n",
              "  'Discount': 0,\n",
              "  'Price': 520,\n",
              "  'ProductName': 'Noodles',\n",
              "  'qty': 25},\n",
              " '106': {'Availabilty': 'In-stock',\n",
              "  'Discount': 0,\n",
              "  'Price': 520,\n",
              "  'ProductName': 'Toy',\n",
              "  'qty': 25},\n",
              " '107': {'Availabilty': 'In-stock',\n",
              "  'Discount': 0,\n",
              "  'Price': 520,\n",
              "  'ProductName': 'Rice',\n",
              "  'qty': 25},\n",
              " '108': {'Availabilty': 'In-stock',\n",
              "  'Discount': 0,\n",
              "  'Price': 1120,\n",
              "  'ProductName': 'Earphones',\n",
              "  'qty': 25},\n",
              " '109': {'Availabilty': 'In-stock',\n",
              "  'Discount': 0,\n",
              "  'Price': 55520,\n",
              "  'ProductName': 'Laptop',\n",
              "  'qty': 25},\n",
              " '110': {'Availabilty': 'In-stock',\n",
              "  'Discount': 0,\n",
              "  'Price': 120,\n",
              "  'ProductName': 'Papers',\n",
              "  'qty': 25},\n",
              " '111': {'Availabilty': 'In-stock',\n",
              "  'Discount': 0,\n",
              "  'Price': 20,\n",
              "  'ProductName': 'Sticker',\n",
              "  'qty': 25},\n",
              " '112': {'Availabilty': 'In-stock',\n",
              "  'Discount': 0,\n",
              "  'Price': 520,\n",
              "  'ProductName': 'Chairs',\n",
              "  'qty': 25},\n",
              " '113': {'Availabilty': 'In-stock',\n",
              "  'Discount': 0,\n",
              "  'Price': 560,\n",
              "  'ProductName': 'Vegetables',\n",
              "  'qty': 25},\n",
              " '114': {'Availabilty': 'In-stock',\n",
              "  'Discount': 0,\n",
              "  'Price': 500,\n",
              "  'ProductName': 'Fruits',\n",
              "  'qty': 25},\n",
              " '115': {'Availabilty': 'In-stock',\n",
              "  'Discount': 0,\n",
              "  'Price': 420,\n",
              "  'ProductName': 'Mushrooms',\n",
              "  'qty': 25},\n",
              " '116': {'Availabilty': 'In-stock',\n",
              "  'Discount': 0,\n",
              "  'Price': 520,\n",
              "  'ProductName': 'Charger',\n",
              "  'qty': 25},\n",
              " '117': {'Availabilty': 'In-stock',\n",
              "  'Discount': 0,\n",
              "  'Price': 220,\n",
              "  'ProductName': 'ToothPaste',\n",
              "  'qty': 25},\n",
              " '118': {'Availabilty': 'In-stock',\n",
              "  'Discount': 0,\n",
              "  'Price': 120,\n",
              "  'ProductName': 'ToothBrush',\n",
              "  'qty': 25},\n",
              " '119': {'Availabilty': 'In-stock',\n",
              "  'Discount': 0,\n",
              "  'Price': 20,\n",
              "  'ProductName': 'Pens',\n",
              "  'qty': 25},\n",
              " '120': {'Availabilty': 'In-stock',\n",
              "  'Discount': 0,\n",
              "  'Price': 520,\n",
              "  'ProductName': 'Pastries',\n",
              "  'qty': 25},\n",
              " '121': {'Availabilty': 'In-stock',\n",
              "  'Discount': 0,\n",
              "  'Price': 120,\n",
              "  'ProductName': 'ZanduBalm',\n",
              "  'qty': 25},\n",
              " '122': {'Availabilty': 'In-stock',\n",
              "  'Discount': 0,\n",
              "  'Price': 50,\n",
              "  'ProductName': 'Vicks',\n",
              "  'qty': 25},\n",
              " '123': {'Availabilty': 'In-stock',\n",
              "  'Discount': 0,\n",
              "  'Price': 255,\n",
              "  'ProductName': 'Honey',\n",
              "  'qty': 25},\n",
              " '124': {'Availabilty': 'In-stock',\n",
              "  'Discount': 0,\n",
              "  'Price': 520,\n",
              "  'ProductName': 'Kurta',\n",
              "  'qty': 25},\n",
              " '125': {'Availabilty': 'In-stock',\n",
              "  'Discount': 0,\n",
              "  'Price': 500,\n",
              "  'ProductName': 'DiaryMilk',\n",
              "  'qty': 25},\n",
              " '126': {'Availabilty': 'In-stock',\n",
              "  'Discount': 0,\n",
              "  'Price': 320,\n",
              "  'ProductName': 'ChocoCake',\n",
              "  'qty': 25},\n",
              " '127': {'Availabilty': 'In-stock',\n",
              "  'Discount': 0,\n",
              "  'Price': 220,\n",
              "  'ProductName': 'Cornflakes',\n",
              "  'qty': 25},\n",
              " '128': {'Availabilty': 'In-stock',\n",
              "  'Discount': 0,\n",
              "  'Price': 150,\n",
              "  'ProductName': 'Milk',\n",
              "  'qty': 25},\n",
              " '129': {'Availabilty': 'In-stock',\n",
              "  'Discount': 0,\n",
              "  'Price': 200,\n",
              "  'ProductName': \"Hershey's\",\n",
              "  'qty': 25},\n",
              " '130': {'Availabilty': 'In-stock',\n",
              "  'Discount': 0,\n",
              "  'Price': 120,\n",
              "  'ProductName': 'Bread',\n",
              "  'qty': 25}}"
            ]
          },
          "metadata": {},
          "execution_count": 11
        }
      ]
    },
    {
      "cell_type": "markdown",
      "metadata": {
        "id": "zhvRDPb2Q3Df"
      },
      "source": [
        "**Adding new items to the inventory**\n",
        "\n",
        "> Indented block\n",
        "\n"
      ]
    },
    {
      "cell_type": "code",
      "metadata": {
        "colab": {
          "base_uri": "https://localhost:8080/"
        },
        "id": "UxXTNqGdPGfM",
        "outputId": "2d209fc2-dd6e-4e41-bffd-baee2968830e"
      },
      "source": [
        "ProdId = int(input(\"Enter the product id: \"))\n",
        "ProdName = input(\"Enter the product name: \")\n",
        "ProdPrice = int(input(\"Enter the product price: \"))\n",
        "ProdQty = int(input(\"Enter the quantity of product: \"))\n",
        "ProdAvl = input(\"Enter the availability(In-stock/out of stock): \")\n",
        "ProdDis = int(input(\"Enter the product discount: \"))\n",
        "\n",
        "\n",
        "items[ProdId] = {\"ProductName\" : ProdName, \"Price\" : ProdPrice, \"qty\" : ProdQty, \"Availabilty\" : ProdAvl, \"Discount\" : ProdDis}\n",
        "\n",
        "js = json.dumps(items)\n",
        "fd = open(\"record.json\", \"w\")\n",
        "fd.write(js)\n",
        "fd.close()"
      ],
      "execution_count": null,
      "outputs": [
        {
          "name": "stdout",
          "output_type": "stream",
          "text": [
            "Enter the product id: 131\n",
            "Enter the product name: Seven_up\n",
            "Enter the product price: 99\n",
            "Enter the quantity of product: 13\n",
            "Enter the availability(In-stock/out of stock): In-stock\n",
            "Enter the product discount: 0\n"
          ]
        }
      ]
    }
  ]
}